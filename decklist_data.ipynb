{
 "cells": [
  {
   "cell_type": "markdown",
   "metadata": {},
   "source": [
    "# Arkhamdb Decklists Data Loading \n",
    "Created: 2021-10-29  \n",
    "Updated: 2021-10-30   \n",
    "Author: Spencer Simon"
   ]
  },
  {
   "cell_type": "markdown",
   "metadata": {},
   "source": [
    "## Overview"
   ]
  },
  {
   "cell_type": "markdown",
   "metadata": {},
   "source": [
    "This notebook downloads data from [arkhamdb.com](https://arkhamdb.com) using their [public api](https://arkhamdb.com/api/).  \n",
    "\n",
    "The data downloaded includes all decklists created and published on the site.  \n",
    "\n",
    "This data is downloaded and prepared for use in creating racing bar charts of investigator popularity over time, as well as additional analysis.  \n",
    "\n",
    "Data is exported as a CSV."
   ]
  },
  {
   "cell_type": "markdown",
   "metadata": {},
   "source": [
    "## Setup"
   ]
  },
  {
   "cell_type": "markdown",
   "metadata": {},
   "source": [
    "### Install and import necessary libraries"
   ]
  },
  {
   "cell_type": "code",
   "execution_count": 3,
   "metadata": {
    "ExecuteTime": {
     "end_time": "2021-10-31T01:54:26.366666Z",
     "start_time": "2021-10-31T01:54:25.905414Z"
    }
   },
   "outputs": [],
   "source": [
    "import pandas as pd\n",
    "import urllib.request, json \n",
    "from concurrent.futures import ThreadPoolExecutor\n",
    "from datetime import datetime"
   ]
  },
  {
   "cell_type": "markdown",
   "metadata": {},
   "source": [
    "### Define global variables"
   ]
  },
  {
   "cell_type": "code",
   "execution_count": 37,
   "metadata": {
    "ExecuteTime": {
     "end_time": "2021-10-31T02:24:12.510454Z",
     "start_time": "2021-10-31T02:24:12.507214Z"
    }
   },
   "outputs": [],
   "source": [
    "base_url = 'https://arkhamdb.com'\n",
    "api_deck_by_date = '/api/public/decklists/by_date/'"
   ]
  },
  {
   "cell_type": "code",
   "execution_count": 38,
   "metadata": {
    "ExecuteTime": {
     "end_time": "2021-10-31T02:24:13.125412Z",
     "start_time": "2021-10-31T02:24:13.120657Z"
    }
   },
   "outputs": [],
   "source": [
    "# Get current year and month as ints and strings of numbers:\n",
    "current_yr = datetime.now().year\n",
    "current_yr_string = str(current_yr)\n",
    "current_month = datetime.now().month\n",
    "\n",
    "# Make sure month string is 2 digits\n",
    "if current_month <= 9:\n",
    "    current_month_string = '0' + str(current_month)\n",
    "else:\n",
    "    current_month_string = str(current_month)"
   ]
  },
  {
   "cell_type": "code",
   "execution_count": 39,
   "metadata": {
    "ExecuteTime": {
     "end_time": "2021-10-31T02:24:13.654564Z",
     "start_time": "2021-10-31T02:24:13.649841Z"
    }
   },
   "outputs": [],
   "source": [
    "dates_old = ['2016-09-02', '2016-10-12', '2016-10-15', '2016-10-18', '2016-10-19', \n",
    "             '2016-10-22', '2016-10-23', '2016-10-24', '2016-10-27', '2016-10-29', \n",
    "             '2016-10-30',]"
   ]
  },
  {
   "cell_type": "code",
   "execution_count": 40,
   "metadata": {
    "ExecuteTime": {
     "end_time": "2021-10-31T02:24:14.393272Z",
     "start_time": "2021-10-31T02:24:14.383510Z"
    }
   },
   "outputs": [],
   "source": [
    "urls_old = [base_url + api_deck_by_date + i for i in dates_old]"
   ]
  },
  {
   "cell_type": "markdown",
   "metadata": {},
   "source": [
    "### Define functions"
   ]
  },
  {
   "cell_type": "code",
   "execution_count": 41,
   "metadata": {
    "ExecuteTime": {
     "end_time": "2021-10-31T02:24:15.522294Z",
     "start_time": "2021-10-31T02:24:15.512092Z"
    }
   },
   "outputs": [],
   "source": [
    "def get_urls(year, month):\n",
    "    \"\"\"\n",
    "    year: string (YYYY)\n",
    "    month: string (MM)\n",
    "    \n",
    "    Returns a list of the arkhamdb API urls for all decklists from all days in the input year and month.\n",
    "    Includes some addition days/urls as well (e.g. February 30th).\n",
    "    \"\"\"\n",
    "    \n",
    "    # Check that input parameters are strings, and month is length 2\n",
    "    if not isinstance(year, str) or not isinstance(month, str):\n",
    "        print(\"Error: year and month must be strings\")\n",
    "        return\n",
    "    elif len(month) != 2:\n",
    "        print(\"Error: input month must be 2 characters long (e.g. 02) /n\")\n",
    "        return\n",
    "    \n",
    "    urls = []\n",
    "    # Create list of url strings I will use to request data\n",
    "    for i in range(1,32):\n",
    "        if i <= 9:\n",
    "            url_temp = base_url + api_deck_by_date + f'{year}-{month}' + '-0' + str(i)\n",
    "        else:\n",
    "            url_temp = base_url + api_deck_by_date + f'{year}-{month}-' + str(i)\n",
    "        urls.append(url_temp)\n",
    "    \n",
    "    return urls"
   ]
  },
  {
   "cell_type": "code",
   "execution_count": 42,
   "metadata": {
    "ExecuteTime": {
     "end_time": "2021-10-31T02:24:16.186341Z",
     "start_time": "2021-10-31T02:24:16.136384Z"
    }
   },
   "outputs": [],
   "source": [
    "def fill_df_month(year, month):\n",
    "    \"\"\"\n",
    "    year: string (YYYY)\n",
    "    month: string (MM)\n",
    "    \n",
    "    Returns a list with arkhamdb information retrieved from the API for decklists for the given month.\n",
    "    \"\"\"\n",
    "    \n",
    "    # Check that input parameters are strings, and month is length 2\n",
    "    if not isinstance(year, str) or not isinstance(month, str):\n",
    "        print(\"Error: year and month must be strings\")\n",
    "        return\n",
    "    elif len(month) != 2:\n",
    "        print(\"Error: input month must be 2 characters long (e.g. 02) /n\")\n",
    "        return\n",
    "    \n",
    "    small_dfs = []\n",
    "    \n",
    "    # Set a special case for September and October 2016, when very few decks were published\n",
    "    if year == '2016' and month == '09':         # Fill using hard coded values for first day from urls_old, the only day in September\n",
    "        try:\n",
    "            small_dfs.append(pd.read_json(urls_old[0]))\n",
    "        except:\n",
    "            print(f\"Error for Date {url[-10:]} \\n\")\n",
    "    elif year == '2016' and month == '10':\n",
    "        for url in urls_old[1:]:             # Fill using rest of urls_old, which is october\n",
    "            try:\n",
    "                small_dfs.append(pd.read_json(url))\n",
    "            except:\n",
    "                print(f\"Error for Date {url[-10:]} \\n\")\n",
    "    else:\n",
    "        for url in get_urls(year, month):    # Else, fill in list of decklists for the month using get_urls()\n",
    "            try:\n",
    "                small_dfs.append(pd.read_json(url))\n",
    "            except:\n",
    "                print(f\"Error for Date {url[-10:]} \\n\")\n",
    "\n",
    "    return small_dfs"
   ]
  },
  {
   "cell_type": "code",
   "execution_count": 43,
   "metadata": {
    "ExecuteTime": {
     "end_time": "2021-10-31T02:24:16.775337Z",
     "start_time": "2021-10-31T02:24:16.763807Z"
    }
   },
   "outputs": [],
   "source": [
    "def fill_df_full():\n",
    "    \"\"\"\n",
    "    Returns a dataframe with all arkhamdb data from the arkhamdb API for decklists through the previous month.\n",
    "    \"\"\"\n",
    "    month_lists = [] # Initialize list of decklists\n",
    "    \n",
    "    # Loop through all years 2016 to present\n",
    "    for yr in range(2016, current_yr+1):\n",
    "        # Set start month to 9 in 2016, as that is the first month a decklist is published\n",
    "        if yr == 2016:\n",
    "            month_iter = ['09', '10', '11', '12']\n",
    "        else:\n",
    "            month_iter = ['01', '02', '03', '04', '05', '06', '07', '08', '09', '10', '11', '12']\n",
    "            \n",
    "        # Print when starting a new year to update progress:\n",
    "        print(f\" ------------------ \\n Starting year {yr} \\n\")\n",
    "        \n",
    "        # Loop through all months through the month before the current month, \n",
    "        # so we don't include partial month data for this month\n",
    "        # For each month, get all decklists for the month. Append that to overall months list.\n",
    "        for m in month_iter:\n",
    "            temp_list = fill_df_month(str(yr), m)\n",
    "            month_lists.append(temp_list)         # Append to lists here, then convert to df later\n",
    "    \n",
    "    # flatten list so I can pd.concat to make df\n",
    "    flatter_list = [item for sublist in month_lists for item in sublist] \n",
    "    \n",
    "    df = pd.concat(flatter_list, ignore_index=True)    # Create dataframe from the list above\n",
    "    df.set_index(['id'], inplace=True)                 # set df index to id column\n",
    "    \n",
    "    return df"
   ]
  },
  {
   "cell_type": "markdown",
   "metadata": {},
   "source": [
    "## Query Arkhamdb to get data"
   ]
  },
  {
   "cell_type": "code",
   "execution_count": 44,
   "metadata": {
    "ExecuteTime": {
     "end_time": "2021-10-31T02:49:18.455471Z",
     "start_time": "2021-10-31T02:24:41.797306Z"
    }
   },
   "outputs": [
    {
     "name": "stdout",
     "output_type": "stream",
     "text": [
      "---------------- \n",
      " Starting year 2016 \n",
      "\n",
      "Error for Date 2016-11-02 \n",
      "\n",
      "Error for Date 2016-11-04 \n",
      "\n",
      "Error for Date 2016-11-09 \n",
      "\n",
      "Error for Date 2016-11-27 \n",
      "\n",
      "Error for Date 2016-12-08 \n",
      "\n",
      "Error for Date 2016-12-09 \n",
      "\n",
      "Error for Date 2016-12-24 \n",
      "\n",
      "Error for Date 2016-12-25 \n",
      "\n",
      "Error for Date 2016-12-28 \n",
      "\n",
      "Error for Date 2016-12-31 \n",
      "\n",
      "---------------- \n",
      " Starting year 2017 \n",
      "\n",
      "Error for Date 2017-01-09 \n",
      "\n",
      "Error for Date 2017-01-11 \n",
      "\n",
      "Error for Date 2017-01-13 \n",
      "\n",
      "Error for Date 2017-02-19 \n",
      "\n",
      "Error for Date 2017-04-31 \n",
      "\n",
      "Error for Date 2017-05-01 \n",
      "\n",
      "Error for Date 2017-07-28 \n",
      "\n",
      "Error for Date 2017-07-29 \n",
      "\n",
      "Error for Date 2017-08-26 \n",
      "\n",
      "Error for Date 2017-12-23 \n",
      "\n",
      "---------------- \n",
      " Starting year 2018 \n",
      "\n",
      "Error for Date 2018-05-07 \n",
      "\n",
      "---------------- \n",
      " Starting year 2019 \n",
      "\n",
      "Error for Date 2019-12-13 \n",
      "\n",
      "Error for Date 2019-12-29 \n",
      "\n",
      "---------------- \n",
      " Starting year 2020 \n",
      "\n",
      "---------------- \n",
      " Starting year 2021 \n",
      "\n",
      "Error for Date 2021-03-05 \n",
      "\n",
      "Error for Date 2021-04-18 \n",
      "\n",
      "Error for Date 2021-10-31 \n",
      "\n",
      "Error for Date 2021-11-01 \n",
      "\n",
      "Error for Date 2021-11-02 \n",
      "\n",
      "Error for Date 2021-11-03 \n",
      "\n",
      "Error for Date 2021-11-04 \n",
      "\n",
      "Error for Date 2021-11-05 \n",
      "\n",
      "Error for Date 2021-11-06 \n",
      "\n",
      "Error for Date 2021-11-07 \n",
      "\n",
      "Error for Date 2021-11-08 \n",
      "\n",
      "Error for Date 2021-11-09 \n",
      "\n",
      "Error for Date 2021-11-10 \n",
      "\n",
      "Error for Date 2021-11-11 \n",
      "\n",
      "Error for Date 2021-11-12 \n",
      "\n",
      "Error for Date 2021-11-13 \n",
      "\n",
      "Error for Date 2021-11-14 \n",
      "\n",
      "Error for Date 2021-11-15 \n",
      "\n",
      "Error for Date 2021-11-16 \n",
      "\n",
      "Error for Date 2021-11-17 \n",
      "\n",
      "Error for Date 2021-11-18 \n",
      "\n",
      "Error for Date 2021-11-19 \n",
      "\n",
      "Error for Date 2021-11-20 \n",
      "\n",
      "Error for Date 2021-11-21 \n",
      "\n",
      "Error for Date 2021-11-22 \n",
      "\n",
      "Error for Date 2021-11-23 \n",
      "\n",
      "Error for Date 2021-11-24 \n",
      "\n",
      "Error for Date 2021-11-25 \n",
      "\n",
      "Error for Date 2021-11-26 \n",
      "\n",
      "Error for Date 2021-11-27 \n",
      "\n",
      "Error for Date 2021-11-28 \n",
      "\n",
      "Error for Date 2021-11-29 \n",
      "\n",
      "Error for Date 2021-11-30 \n",
      "\n",
      "Error for Date 2021-11-31 \n",
      "\n",
      "Error for Date 2021-12-01 \n",
      "\n",
      "Error for Date 2021-12-02 \n",
      "\n",
      "Error for Date 2021-12-03 \n",
      "\n",
      "Error for Date 2021-12-04 \n",
      "\n",
      "Error for Date 2021-12-05 \n",
      "\n",
      "Error for Date 2021-12-06 \n",
      "\n",
      "Error for Date 2021-12-07 \n",
      "\n",
      "Error for Date 2021-12-08 \n",
      "\n",
      "Error for Date 2021-12-09 \n",
      "\n",
      "Error for Date 2021-12-10 \n",
      "\n",
      "Error for Date 2021-12-11 \n",
      "\n",
      "Error for Date 2021-12-12 \n",
      "\n",
      "Error for Date 2021-12-13 \n",
      "\n",
      "Error for Date 2021-12-14 \n",
      "\n",
      "Error for Date 2021-12-15 \n",
      "\n",
      "Error for Date 2021-12-16 \n",
      "\n",
      "Error for Date 2021-12-17 \n",
      "\n",
      "Error for Date 2021-12-18 \n",
      "\n",
      "Error for Date 2021-12-19 \n",
      "\n",
      "Error for Date 2021-12-20 \n",
      "\n",
      "Error for Date 2021-12-21 \n",
      "\n",
      "Error for Date 2021-12-22 \n",
      "\n",
      "Error for Date 2021-12-23 \n",
      "\n",
      "Error for Date 2021-12-24 \n",
      "\n",
      "Error for Date 2021-12-25 \n",
      "\n",
      "Error for Date 2021-12-26 \n",
      "\n",
      "Error for Date 2021-12-27 \n",
      "\n",
      "Error for Date 2021-12-28 \n",
      "\n",
      "Error for Date 2021-12-29 \n",
      "\n",
      "Error for Date 2021-12-30 \n",
      "\n",
      "Error for Date 2021-12-31 \n",
      "\n"
     ]
    }
   ],
   "source": [
    "# Initially: took ~25 mins to run. Look at speed improvements, multi-processing, etc.\n",
    "df_decklists_raw = fill_df_full()"
   ]
  },
  {
   "cell_type": "code",
   "execution_count": 47,
   "metadata": {
    "ExecuteTime": {
     "end_time": "2021-10-31T02:57:47.892589Z",
     "start_time": "2021-10-31T02:57:47.884967Z"
    }
   },
   "outputs": [
    {
     "data": {
      "text/plain": [
       "(30222, 19)"
      ]
     },
     "execution_count": 47,
     "metadata": {},
     "output_type": "execute_result"
    }
   ],
   "source": [
    "# df_decklists_raw.head()\n",
    "df_decklists_raw.shape"
   ]
  },
  {
   "cell_type": "markdown",
   "metadata": {},
   "source": [
    "## Clean Data"
   ]
  },
  {
   "cell_type": "code",
   "execution_count": null,
   "metadata": {},
   "outputs": [],
   "source": []
  },
  {
   "cell_type": "markdown",
   "metadata": {},
   "source": [
    "## Export Data"
   ]
  },
  {
   "cell_type": "code",
   "execution_count": 48,
   "metadata": {
    "ExecuteTime": {
     "end_time": "2021-10-31T03:00:25.942590Z",
     "start_time": "2021-10-31T03:00:22.611575Z"
    }
   },
   "outputs": [],
   "source": [
    "df_decklists.to_csv('decklists.csv')"
   ]
  },
  {
   "cell_type": "markdown",
   "metadata": {},
   "source": [
    "## Notes & To-Do's:"
   ]
  },
  {
   "cell_type": "markdown",
   "metadata": {},
   "source": [
    "- Current function takes a long time to run. Use multithreading or other improvements to make faster\n",
    "- Clean df\n",
    "- Export clean df to csv\n",
    "- Write list of known errors/improvements\n",
    "- add a statement in the for loop of function to exit the loop if month = curr month and year = current year"
   ]
  },
  {
   "cell_type": "markdown",
   "metadata": {},
   "source": [
    "# From searching: \n",
    "def get_url(url):\n",
    "    return requests.get(url)\n",
    "\n",
    "list_of_urls = [\"https://postman-echo.com/get?foo1=bar1&foo2=bar2\"]*10\n",
    "\n",
    "with ThreadPoolExecutor(max_workers=2) as pool:\n",
    "    response_list = list(pool.map(get_url,list_of_urls))\n",
    "\n",
    "for response in response_list:\n",
    "    print(response)"
   ]
  },
  {
   "cell_type": "code",
   "execution_count": null,
   "metadata": {},
   "outputs": [],
   "source": [
    "#with urllib.request.urlopen(url_deck) as url:\n",
    "#    data = json.loads(url.read().decode())\n",
    "#    #print(json.dumps(data, indent=1))"
   ]
  },
  {
   "cell_type": "code",
   "execution_count": null,
   "metadata": {},
   "outputs": [],
   "source": []
  }
 ],
 "metadata": {
  "kernelspec": {
   "display_name": "Python 3",
   "language": "python",
   "name": "python3"
  },
  "language_info": {
   "codemirror_mode": {
    "name": "ipython",
    "version": 3
   },
   "file_extension": ".py",
   "mimetype": "text/x-python",
   "name": "python",
   "nbconvert_exporter": "python",
   "pygments_lexer": "ipython3",
   "version": "3.7.4"
  },
  "toc": {
   "base_numbering": 1,
   "nav_menu": {},
   "number_sections": true,
   "sideBar": true,
   "skip_h1_title": true,
   "title_cell": "Table of Contents",
   "title_sidebar": "Contents",
   "toc_cell": false,
   "toc_position": {},
   "toc_section_display": true,
   "toc_window_display": false
  },
  "varInspector": {
   "cols": {
    "lenName": 16,
    "lenType": 16,
    "lenVar": 40
   },
   "kernels_config": {
    "python": {
     "delete_cmd_postfix": "",
     "delete_cmd_prefix": "del ",
     "library": "var_list.py",
     "varRefreshCmd": "print(var_dic_list())"
    },
    "r": {
     "delete_cmd_postfix": ") ",
     "delete_cmd_prefix": "rm(",
     "library": "var_list.r",
     "varRefreshCmd": "cat(var_dic_list()) "
    }
   },
   "types_to_exclude": [
    "module",
    "function",
    "builtin_function_or_method",
    "instance",
    "_Feature"
   ],
   "window_display": false
  }
 },
 "nbformat": 4,
 "nbformat_minor": 4
}
